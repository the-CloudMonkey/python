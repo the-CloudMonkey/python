{
  "nbformat": 4,
  "nbformat_minor": 0,
  "metadata": {
    "colab": {
      "provenance": [],
      "authorship_tag": "ABX9TyPznTilfLSqmgNNhi4PXQsd",
      "include_colab_link": true
    },
    "kernelspec": {
      "name": "python3",
      "display_name": "Python 3"
    },
    "language_info": {
      "name": "python"
    }
  },
  "cells": [
    {
      "cell_type": "markdown",
      "metadata": {
        "id": "view-in-github",
        "colab_type": "text"
      },
      "source": [
        "<a href=\"https://colab.research.google.com/github/the-CloudMonkey/python/blob/main/Python_intro.ipynb\" target=\"_parent\"><img src=\"https://colab.research.google.com/assets/colab-badge.svg\" alt=\"Open In Colab\"/></a>"
      ]
    },
    {
      "cell_type": "code",
      "execution_count": null,
      "metadata": {
        "colab": {
          "base_uri": "https://localhost:8080/"
        },
        "id": "1KOB73x-Brxw",
        "outputId": "9411f27a-4bf6-4bd5-bb20-bf79b3cc7310"
      },
      "outputs": [
        {
          "output_type": "stream",
          "name": "stdout",
          "text": [
            "hi\n"
          ]
        }
      ],
      "source": [
        "print ('hi')"
      ]
    },
    {
      "cell_type": "code",
      "source": [
        "a=10"
      ],
      "metadata": {
        "id": "6-NN1YxYICiH"
      },
      "execution_count": null,
      "outputs": []
    },
    {
      "cell_type": "code",
      "source": [
        "print(a)"
      ],
      "metadata": {
        "colab": {
          "base_uri": "https://localhost:8080/"
        },
        "id": "96PskhHbIETq",
        "outputId": "9ef25ae6-139b-4bc1-daf2-d5886e800b6d"
      },
      "execution_count": null,
      "outputs": [
        {
          "output_type": "stream",
          "name": "stdout",
          "text": [
            "10\n"
          ]
        }
      ]
    },
    {
      "cell_type": "code",
      "source": [
        "a,b,c=10,20,30"
      ],
      "metadata": {
        "id": "wvcAavfSIGd5"
      },
      "execution_count": null,
      "outputs": []
    },
    {
      "cell_type": "code",
      "source": [
        "print(a,b,c)"
      ],
      "metadata": {
        "colab": {
          "base_uri": "https://localhost:8080/"
        },
        "id": "dafo0Yz-IbB0",
        "outputId": "fe74ace2-9810-4247-d796-3cdcf241220b"
      },
      "execution_count": null,
      "outputs": [
        {
          "output_type": "stream",
          "name": "stdout",
          "text": [
            "10 20 30\n"
          ]
        }
      ]
    },
    {
      "cell_type": "code",
      "source": [
        "name = \"gogo\"\n",
        "last = 'nono'\n",
        "yo = '''ie\n",
        "t\n",
        "b\n",
        "h'''"
      ],
      "metadata": {
        "id": "X8psU_D5Idmp"
      },
      "execution_count": null,
      "outputs": []
    },
    {
      "cell_type": "code",
      "source": [
        "print(name, last, yo)"
      ],
      "metadata": {
        "colab": {
          "base_uri": "https://localhost:8080/"
        },
        "id": "WYwBJ181JJwg",
        "outputId": "999bae5c-d58e-4e06-884a-8ced23b01716"
      },
      "execution_count": null,
      "outputs": [
        {
          "output_type": "stream",
          "name": "stdout",
          "text": [
            "gogo nono ie\n",
            "t\n",
            "b\n",
            "h\n"
          ]
        }
      ]
    },
    {
      "cell_type": "code",
      "source": [
        "#immutable/mutable data types"
      ],
      "metadata": {
        "id": "pNSWYEXQJ37e"
      },
      "execution_count": null,
      "outputs": []
    },
    {
      "cell_type": "code",
      "source": [
        "print(type(a), type(name),type (last))"
      ],
      "metadata": {
        "colab": {
          "base_uri": "https://localhost:8080/"
        },
        "id": "HJXXxBc8KOCa",
        "outputId": "46ea8107-8aad-4249-9558-154d03cf8103"
      },
      "execution_count": null,
      "outputs": [
        {
          "output_type": "stream",
          "name": "stdout",
          "text": [
            "<class 'int'> <class 'str'> <class 'str'>\n"
          ]
        }
      ]
    },
    {
      "cell_type": "code",
      "source": [
        "str = \"yo yo\"\n",
        "sttr =\"ttdiDFfjvnnfowiSTEnfosighVOUVivOIVIvihVIOVHiyvIVIHknj;IUBOUfdytDYtfduoTYFGYdetSXTgdxCytIWFvrtbDRFGVEdfvSZBETargegiv\"\n",
        "print (str[3],sttr[3],str [0:5])"
      ],
      "metadata": {
        "colab": {
          "base_uri": "https://localhost:8080/"
        },
        "id": "puAnpt7EKUoV",
        "outputId": "02952229-952b-4983-d67c-38173c43a93b"
      },
      "execution_count": null,
      "outputs": [
        {
          "output_type": "stream",
          "name": "stdout",
          "text": [
            "y i yo yo\n"
          ]
        }
      ]
    },
    {
      "cell_type": "code",
      "source": [
        "print(type(a), type(name),type (last))"
      ],
      "metadata": {
        "id": "RpK6IJzuMb_i"
      },
      "execution_count": null,
      "outputs": []
    },
    {
      "cell_type": "code",
      "source": [
        "print(sttr.find('fos'))\n",
        "print(sttr.find('si'))\n",
        "print(sttr.replace(\"si\",'yo'))"
      ],
      "metadata": {
        "colab": {
          "base_uri": "https://localhost:8080/"
        },
        "id": "_1LoC8YgKk3h",
        "outputId": "1f00a641-76ab-449a-c285-992d77579cda"
      },
      "execution_count": null,
      "outputs": [
        {
          "output_type": "stream",
          "name": "stdout",
          "text": [
            "19\n",
            "21\n",
            "ttdiDFfjvnnfowiSTEnfoyoghVOUVivOIVIvihVIOVHiyvIVIHknj;IUBOUfdytDYtfduoTYFGYdetSXTgdxCytIWFvrtbDRFGVEdfvSZBETargegiv\n"
          ]
        }
      ]
    },
    {
      "cell_type": "code",
      "source": [
        "print(sttr.split(\"i\"))"
      ],
      "metadata": {
        "colab": {
          "base_uri": "https://localhost:8080/"
        },
        "id": "MWU4IlMwLmEB",
        "outputId": "12bbecaf-b954-4b35-d8af-168ab7b83d13"
      },
      "execution_count": null,
      "outputs": [
        {
          "output_type": "stream",
          "name": "stdout",
          "text": [
            "['ttd', 'DFfjvnnfow', 'STEnfos', 'ghVOUV', 'vOIVIv', 'hVIOVH', 'yvIVIHknj;IUBOUfdytDYtfduoTYFGYdetSXTgdxCytIWFvrtbDRFGVEdfvSZBETargeg', 'v']\n"
          ]
        }
      ]
    },
    {
      "cell_type": "code",
      "source": [
        "print(sttr.count(\"v\"),\n",
        "      sttr.count(\"I\"),\n",
        "      sttr.count(\"F\"),\n",
        "      sttr.count(\"j\"),\n",
        "      sttr.count(\"S\"),\n",
        "      sttr.count(\"Z\"))"
      ],
      "metadata": {
        "colab": {
          "base_uri": "https://localhost:8080/"
        },
        "id": "W62eKYTtMEVb",
        "outputId": "68bd28f8-10a2-4261-e19e-66649a16a0e9"
      },
      "execution_count": null,
      "outputs": [
        {
          "output_type": "stream",
          "name": "stdout",
          "text": [
            "7 7 4 2 3 1\n"
          ]
        }
      ]
    },
    {
      "cell_type": "code",
      "source": [
        "new=sttr.upper()\n",
        "print (new)\n",
        "print(new.count(\"v\"),\n",
        "      new.count(\"I\"),\n",
        "      new.count(\"F\"),\n",
        "      new.count(\"j\"),\n",
        "      new.count(\"S\"),\n",
        "      new.count(\"Z\"))"
      ],
      "metadata": {
        "colab": {
          "base_uri": "https://localhost:8080/"
        },
        "id": "kbrxr1iqMMIj",
        "outputId": "52b98b59-6614-4c83-a1ea-07889597f195"
      },
      "execution_count": null,
      "outputs": [
        {
          "output_type": "stream",
          "name": "stdout",
          "text": [
            "TTDIDFFJVNNFOWISTENFOSIGHVOUVIVOIVIVIHVIOVHIYVIVIHKNJ;IUBOUFDYTDYTFDUOTYFGYDETSXTGDXCYTIWFVRTBDRFGVEDFVSZBETARGEGIV\n",
            "0 14 10 0 4 1\n"
          ]
        }
      ]
    },
    {
      "cell_type": "code",
      "source": [
        "G='(*^(&ksjdvbsudf(&Y^(^bsvkb)(&)W@)@)&)*@^(%IWUBVEIVOEIRHOVIHWSVIOSOVI)'\n",
        "print(min(G))\n",
        "print(max(G))"
      ],
      "metadata": {
        "colab": {
          "base_uri": "https://localhost:8080/"
        },
        "id": "FbJS956MNRVG",
        "outputId": "2d9592e5-0fbb-43ac-df5c-377dbe0eba21"
      },
      "execution_count": null,
      "outputs": [
        {
          "output_type": "stream",
          "name": "stdout",
          "text": [
            "%\n",
            "v\n"
          ]
        }
      ]
    },
    {
      "cell_type": "code",
      "source": [
        "a='3239rkjsvowie3029u4gowuisbvskjnvwovbwp'"
      ],
      "metadata": {
        "id": "So0i-M2EPUTU"
      },
      "execution_count": null,
      "outputs": []
    },
    {
      "cell_type": "code",
      "source": [
        "print (type(a), a.find('g'), a.count('o'), a.replace(\"o\",\"u\"), a.count('o'), a.split('u'), min(a), max(a) )"
      ],
      "metadata": {
        "colab": {
          "base_uri": "https://localhost:8080/"
        },
        "id": "2nIh4lgc6gjX",
        "outputId": "14d48ad0-ed96-44bd-ad13-45468cc6a9ce"
      },
      "execution_count": null,
      "outputs": [
        {
          "output_type": "stream",
          "name": "stdout",
          "text": [
            "<class 'str'> 19 3 3239rkjsvuwie3029u4guwuisbvskjnvwuvbwp 3 ['3239rkjsvowie3029', '4gow', 'isbvskjnvwovbwp'] 0 w\n"
          ]
        }
      ]
    },
    {
      "cell_type": "code",
      "source": [
        "b=a.upper()"
      ],
      "metadata": {
        "id": "7Adudxdo6-pW"
      },
      "execution_count": null,
      "outputs": []
    },
    {
      "cell_type": "code",
      "source": [
        "print (b)"
      ],
      "metadata": {
        "colab": {
          "base_uri": "https://localhost:8080/"
        },
        "id": "j-D8V7Aq7HQC",
        "outputId": "254277eb-40f9-47b4-fff5-b647efe73ea5"
      },
      "execution_count": null,
      "outputs": [
        {
          "output_type": "stream",
          "name": "stdout",
          "text": [
            "3239RKJSVOWIE3029U4GOWUISBVSKJNVWOVBWP\n"
          ]
        }
      ]
    },
    {
      "cell_type": "code",
      "source": [
        "#tuple"
      ],
      "metadata": {
        "id": "vnLdjL0y7Uvk"
      },
      "execution_count": null,
      "outputs": []
    },
    {
      "cell_type": "code",
      "source": [
        "t=('a','b','c','d')\n",
        "y=('e','f')\n",
        "t+=y#concat\n",
        "print(t,y)\n",
        "print(y*3)#repetition- increse the tuple objs\n",
        "print(t[1],t[3],y[0])#index\n",
        "print(t[3:6])"
      ],
      "metadata": {
        "colab": {
          "base_uri": "https://localhost:8080/"
        },
        "id": "WA3pGioL-kEC",
        "outputId": "40f14c8c-5ddd-4b2d-dfc9-01e04ac14404"
      },
      "execution_count": null,
      "outputs": [
        {
          "output_type": "stream",
          "name": "stdout",
          "text": [
            "('a', 'b', 'c', 'd', 'e', 'f') ('e', 'f')\n",
            "('e', 'f', 'e', 'f', 'e', 'f')\n",
            "b d e\n",
            "('d', 'e', 'f')\n"
          ]
        }
      ]
    },
    {
      "cell_type": "code",
      "source": [
        "#list"
      ],
      "metadata": {
        "id": "KJieU1A4_Uzw"
      },
      "execution_count": null,
      "outputs": []
    },
    {
      "cell_type": "code",
      "source": [
        "l=['3',32.4,'fwf',0.223]\n",
        "print(l)\n",
        "k=[\"python\",\"snake\",434]\n",
        "l+=k#concat\n",
        "print(l,k)\n",
        "print(k*5)#repetition\n",
        "print(l[1:4])#slicing\n",
        "l.append('f')\n",
        "l.append(['d','t'])\n",
        "j=['raya']\n",
        "l.append(j)#append values at the end\n",
        "print(l)\n",
        "l.insert(0,40)#insert (position, value)\n",
        "print(\"insert\",l)"
      ],
      "metadata": {
        "colab": {
          "base_uri": "https://localhost:8080/"
        },
        "id": "8GLnmLrMBBSv",
        "outputId": "497a9ff0-5cc9-4466-83f7-359f621ac402"
      },
      "execution_count": null,
      "outputs": [
        {
          "output_type": "stream",
          "name": "stdout",
          "text": [
            "['3', 32.4, 'fwf', 0.223]\n",
            "['3', 32.4, 'fwf', 0.223, 'python', 'snake', 434] ['python', 'snake', 434]\n",
            "['python', 'snake', 434, 'python', 'snake', 434, 'python', 'snake', 434, 'python', 'snake', 434, 'python', 'snake', 434]\n",
            "[32.4, 'fwf', 0.223]\n",
            "['3', 32.4, 'fwf', 0.223, 'python', 'snake', 434, 'f', ['d', 't'], ['raya']]\n",
            "insert [40, '3', 32.4, 'fwf', 0.223, 'python', 'snake', 434, 'f', ['d', 't'], ['raya']]\n"
          ]
        }
      ]
    },
    {
      "cell_type": "code",
      "source": [
        "#dictionary, index for each element"
      ],
      "metadata": {
        "id": "XY0nbsw4BhSs"
      },
      "execution_count": null,
      "outputs": []
    },
    {
      "cell_type": "code",
      "source": [
        "d={}#empty\n",
        "a{1:\"s\",2:\"e\"}#integer keys(1,2)\n",
        "s={1:\"first\",2:\"second\",3:\"third\",4:2,'list':[1,23,422]}#mixed dictionary, 1,2,3,list\n"
      ],
      "metadata": {
        "id": "eXLALKeHD4qk"
      },
      "execution_count": null,
      "outputs": []
    },
    {
      "cell_type": "code",
      "source": [],
      "metadata": {
        "id": "xJYernvPD7y0"
      },
      "execution_count": null,
      "outputs": []
    }
  ]
}