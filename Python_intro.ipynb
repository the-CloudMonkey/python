{
  "nbformat": 4,
  "nbformat_minor": 0,
  "metadata": {
    "colab": {
      "provenance": [],
      "authorship_tag": "ABX9TyMG/YiY6eRLv1tWxyiRPRAu",
      "include_colab_link": true
    },
    "kernelspec": {
      "name": "python3",
      "display_name": "Python 3"
    },
    "language_info": {
      "name": "python"
    }
  },
  "cells": [
    {
      "cell_type": "markdown",
      "metadata": {
        "id": "view-in-github",
        "colab_type": "text"
      },
      "source": [
        "<a href=\"https://colab.research.google.com/github/the-CloudMonkey/python/blob/main/Python_intro.ipynb\" target=\"_parent\"><img src=\"https://colab.research.google.com/assets/colab-badge.svg\" alt=\"Open In Colab\"/></a>"
      ]
    },
    {
      "cell_type": "code",
      "execution_count": 3,
      "metadata": {
        "colab": {
          "base_uri": "https://localhost:8080/"
        },
        "id": "1KOB73x-Brxw",
        "outputId": "9411f27a-4bf6-4bd5-bb20-bf79b3cc7310"
      },
      "outputs": [
        {
          "output_type": "stream",
          "name": "stdout",
          "text": [
            "hi\n"
          ]
        }
      ],
      "source": [
        "print ('hi')"
      ]
    },
    {
      "cell_type": "code",
      "source": [
        "a=10"
      ],
      "metadata": {
        "id": "6-NN1YxYICiH"
      },
      "execution_count": 4,
      "outputs": []
    },
    {
      "cell_type": "code",
      "source": [
        "print(a)"
      ],
      "metadata": {
        "colab": {
          "base_uri": "https://localhost:8080/"
        },
        "id": "96PskhHbIETq",
        "outputId": "9ef25ae6-139b-4bc1-daf2-d5886e800b6d"
      },
      "execution_count": 5,
      "outputs": [
        {
          "output_type": "stream",
          "name": "stdout",
          "text": [
            "10\n"
          ]
        }
      ]
    },
    {
      "cell_type": "code",
      "source": [
        "a,b,c=10,20,30"
      ],
      "metadata": {
        "id": "wvcAavfSIGd5"
      },
      "execution_count": 6,
      "outputs": []
    },
    {
      "cell_type": "code",
      "source": [
        "print(a,b,c)"
      ],
      "metadata": {
        "colab": {
          "base_uri": "https://localhost:8080/"
        },
        "id": "dafo0Yz-IbB0",
        "outputId": "fe74ace2-9810-4247-d796-3cdcf241220b"
      },
      "execution_count": 7,
      "outputs": [
        {
          "output_type": "stream",
          "name": "stdout",
          "text": [
            "10 20 30\n"
          ]
        }
      ]
    },
    {
      "cell_type": "code",
      "source": [
        "name = \"gogo\"\n",
        "last = 'nono'\n",
        "yo = '''ie\n",
        "t\n",
        "b\n",
        "h'''"
      ],
      "metadata": {
        "id": "X8psU_D5Idmp"
      },
      "execution_count": 10,
      "outputs": []
    },
    {
      "cell_type": "code",
      "source": [
        "print(name, last, yo)"
      ],
      "metadata": {
        "colab": {
          "base_uri": "https://localhost:8080/"
        },
        "id": "WYwBJ181JJwg",
        "outputId": "999bae5c-d58e-4e06-884a-8ced23b01716"
      },
      "execution_count": 11,
      "outputs": [
        {
          "output_type": "stream",
          "name": "stdout",
          "text": [
            "gogo nono ie\n",
            "t\n",
            "b\n",
            "h\n"
          ]
        }
      ]
    },
    {
      "cell_type": "code",
      "source": [
        "datatype(name)"
      ],
      "metadata": {
        "colab": {
          "base_uri": "https://localhost:8080/",
          "height": 141
        },
        "id": "IYHjS_MyJUsz",
        "outputId": "a1466242-877b-4026-f01e-a72838b0db03"
      },
      "execution_count": 12,
      "outputs": [
        {
          "output_type": "error",
          "ename": "NameError",
          "evalue": "name 'datatype' is not defined",
          "traceback": [
            "\u001b[0;31m---------------------------------------------------------------------------\u001b[0m",
            "\u001b[0;31mNameError\u001b[0m                                 Traceback (most recent call last)",
            "\u001b[0;32m<ipython-input-12-260772ea6f97>\u001b[0m in \u001b[0;36m<cell line: 0>\u001b[0;34m()\u001b[0m\n\u001b[0;32m----> 1\u001b[0;31m \u001b[0mdatatype\u001b[0m\u001b[0;34m(\u001b[0m\u001b[0mname\u001b[0m\u001b[0;34m)\u001b[0m\u001b[0;34m\u001b[0m\u001b[0;34m\u001b[0m\u001b[0m\n\u001b[0m",
            "\u001b[0;31mNameError\u001b[0m: name 'datatype' is not defined"
          ]
        }
      ]
    },
    {
      "cell_type": "code",
      "source": [
        "#immutable/mutable data types"
      ],
      "metadata": {
        "id": "pNSWYEXQJ37e"
      },
      "execution_count": 13,
      "outputs": []
    },
    {
      "cell_type": "code",
      "source": [
        "print(type(a), type(name),type (last))"
      ],
      "metadata": {
        "colab": {
          "base_uri": "https://localhost:8080/"
        },
        "id": "HJXXxBc8KOCa",
        "outputId": "46ea8107-8aad-4249-9558-154d03cf8103"
      },
      "execution_count": 16,
      "outputs": [
        {
          "output_type": "stream",
          "name": "stdout",
          "text": [
            "<class 'int'> <class 'str'> <class 'str'>\n"
          ]
        }
      ]
    },
    {
      "cell_type": "code",
      "source": [
        "str = \"yo yo\"\n",
        "sttr =\"ttdiDFfjvnnfowiSTEnfosighVOUVivOIVIvihVIOVHiyvIVIHknj;IUBOUfdytDYtfduoTYFGYdetSXTgdxCytIWFvrtbDRFGVEdfvSZBETargegiv\"\n",
        "print (str[3],sttr[3],str [0:5])"
      ],
      "metadata": {
        "colab": {
          "base_uri": "https://localhost:8080/"
        },
        "id": "puAnpt7EKUoV",
        "outputId": "02952229-952b-4983-d67c-38173c43a93b"
      },
      "execution_count": 36,
      "outputs": [
        {
          "output_type": "stream",
          "name": "stdout",
          "text": [
            "y i yo yo\n"
          ]
        }
      ]
    },
    {
      "cell_type": "code",
      "source": [],
      "metadata": {
        "id": "RpK6IJzuMb_i"
      },
      "execution_count": null,
      "outputs": []
    },
    {
      "cell_type": "code",
      "source": [
        "print(sttr.find('fos'))\n",
        "print(sttr.find('si'))\n",
        "print(sttr.replace(\"si\",'yo'))"
      ],
      "metadata": {
        "colab": {
          "base_uri": "https://localhost:8080/"
        },
        "id": "_1LoC8YgKk3h",
        "outputId": "1f00a641-76ab-449a-c285-992d77579cda"
      },
      "execution_count": 37,
      "outputs": [
        {
          "output_type": "stream",
          "name": "stdout",
          "text": [
            "19\n",
            "21\n",
            "ttdiDFfjvnnfowiSTEnfoyoghVOUVivOIVIvihVIOVHiyvIVIHknj;IUBOUfdytDYtfduoTYFGYdetSXTgdxCytIWFvrtbDRFGVEdfvSZBETargegiv\n"
          ]
        }
      ]
    },
    {
      "cell_type": "code",
      "source": [
        "print(sttr.split(\"i\"))"
      ],
      "metadata": {
        "colab": {
          "base_uri": "https://localhost:8080/"
        },
        "id": "MWU4IlMwLmEB",
        "outputId": "12bbecaf-b954-4b35-d8af-168ab7b83d13"
      },
      "execution_count": 38,
      "outputs": [
        {
          "output_type": "stream",
          "name": "stdout",
          "text": [
            "['ttd', 'DFfjvnnfow', 'STEnfos', 'ghVOUV', 'vOIVIv', 'hVIOVH', 'yvIVIHknj;IUBOUfdytDYtfduoTYFGYdetSXTgdxCytIWFvrtbDRFGVEdfvSZBETargeg', 'v']\n"
          ]
        }
      ]
    },
    {
      "cell_type": "code",
      "source": [
        "print(sttr.count(\"v\"),\n",
        "      sttr.count(\"I\"),\n",
        "      sttr.count(\"F\"),\n",
        "      sttr.count(\"j\"),\n",
        "      sttr.count(\"S\"),\n",
        "      sttr.count(\"Z\"))"
      ],
      "metadata": {
        "colab": {
          "base_uri": "https://localhost:8080/"
        },
        "id": "W62eKYTtMEVb",
        "outputId": "68bd28f8-10a2-4261-e19e-66649a16a0e9"
      },
      "execution_count": 46,
      "outputs": [
        {
          "output_type": "stream",
          "name": "stdout",
          "text": [
            "7 7 4 2 3 1\n"
          ]
        }
      ]
    },
    {
      "cell_type": "code",
      "source": [
        "new=sttr.upper()\n",
        "print (new)\n",
        "print(new.count(\"v\"),\n",
        "      new.count(\"I\"),\n",
        "      new.count(\"F\"),\n",
        "      new.count(\"j\"),\n",
        "      new.count(\"S\"),\n",
        "      new.count(\"Z\"))"
      ],
      "metadata": {
        "colab": {
          "base_uri": "https://localhost:8080/"
        },
        "id": "kbrxr1iqMMIj",
        "outputId": "52b98b59-6614-4c83-a1ea-07889597f195"
      },
      "execution_count": 51,
      "outputs": [
        {
          "output_type": "stream",
          "name": "stdout",
          "text": [
            "TTDIDFFJVNNFOWISTENFOSIGHVOUVIVOIVIVIHVIOVHIYVIVIHKNJ;IUBOUFDYTDYTFDUOTYFGYDETSXTGDXCYTIWFVRTBDRFGVEDFVSZBETARGEGIV\n",
            "0 14 10 0 4 1\n"
          ]
        }
      ]
    },
    {
      "cell_type": "code",
      "source": [
        "G='(*^(&ksjdvbsudf(&Y^(^bsvkb)(&)W@)@)&)*@^(%IWUBVEIVOEIRHOVIHWSVIOSOVI)'\n",
        "print(min(G))\n",
        "print(max(G))"
      ],
      "metadata": {
        "colab": {
          "base_uri": "https://localhost:8080/"
        },
        "id": "FbJS956MNRVG",
        "outputId": "2d9592e5-0fbb-43ac-df5c-377dbe0eba21"
      },
      "execution_count": 56,
      "outputs": [
        {
          "output_type": "stream",
          "name": "stdout",
          "text": [
            "%\n",
            "v\n"
          ]
        }
      ]
    },
    {
      "cell_type": "code",
      "source": [],
      "metadata": {
        "id": "So0i-M2EPUTU"
      },
      "execution_count": null,
      "outputs": []
    }
  ]
}